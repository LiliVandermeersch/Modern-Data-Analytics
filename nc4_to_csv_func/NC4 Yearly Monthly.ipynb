{
 "cells": [
  {
   "cell_type": "code",
   "execution_count": null,
   "metadata": {},
   "outputs": [],
   "source": [
    "def netCDF4_to_csv(nc4_file_path,nc4_key, datatype = ''): #Condition- function starts from year 1980, nc4_file_path -> str ,nc4_key -> str, datatype either monthly or yearly\n",
    "    try:\n",
    "        import netCDF4\n",
    "        from netCDF4 import Dataset\n",
    "        import pandas as pd\n",
    "        import numpy as np\n",
    "        import datetime as dateformat\n",
    "    except:\n",
    "        print(\"Error - Required Libraries not installed\")\n",
    "        return\n",
    "    try:\n",
    "        ds = Dataset(nc4_file_path)\n",
    "    except:\n",
    "        print('Error - Dataset not able to find the file')\n",
    "        return\n",
    "    if type(nc4_key) is not str:\n",
    "        print('Error - Check input for key type')\n",
    "        return\n",
    "    key = ds[nc4_key][:]\n",
    "    if len(key) == 0:\n",
    "      print(\"List is empty\")\n",
    "      returnlat = ds['lat'][:]\n",
    "    lon = ds['lon'][:]\n",
    "    \n",
    "    year = 1980\n",
    "    month = 1\n",
    "    count = 0\n",
    "    if datatype == 'monthly':\n",
    "        print(\"Monthly type\")\n",
    "        for i in range(948,1392):\n",
    "            data = key[i,:,:]\n",
    "            if i == 948:\n",
    "                data_pd = pd.DataFrame(data = data)\n",
    "                lat = ds['lat'][:]\n",
    "                data_pd.index =  lat\n",
    "                lon = ds['lon'][:]\n",
    "                data_pd.columns = lon\n",
    "                data_pd = pd.melt(data_pd, ignore_index = False, var_name='lon', value_name=str(dateformat.datetime(year, 1, month).strftime('%b/%Y')))\n",
    "            else:\n",
    "                data_I = pd.DataFrame(data = data)\n",
    "                data_I.index =  lat\n",
    "                if i % 12 == 0:\n",
    "                    year = year+1\n",
    "                    month = 1\n",
    "                else:\n",
    "                    month = month + 1\n",
    "                data_I = pd.melt(data_I,ignore_index = False, value_name= str(dateformat.datetime(year, month,1).strftime('%b/%Y')))\n",
    "                data_pd[str(dateformat.datetime(year,month,1).strftime('%b/%Y'))] = data_I.loc[:,str(dateformat.datetime(year,month,1).strftime('%b/%Y'))]\n",
    "                #count = count +1\n",
    "                #print(count)\n",
    "                \n",
    "    elif datatype == 'yearly':\n",
    "        print(\"Yearly type\")\n",
    "    \n",
    "        for i in range(80,116):\n",
    "            data = key[i,:,:]\n",
    "            if i == 80:\n",
    "                data_pd = pd.DataFrame(data = data)\n",
    "                lat = ds['lat'][:]\n",
    "                data_pd.index =  lat\n",
    "                lon = ds['lon'][:]\n",
    "                data_pd.columns = lon\n",
    "                data_pd = pd.melt(data_pd, ignore_index = False, var_name='lon', value_name='1980')\n",
    "            else:\n",
    "                data_I = pd.DataFrame(data = data)\n",
    "                data_I.index =  lat\n",
    "                year = year+1\n",
    "                data_I = pd.melt(data_I,ignore_index = False, value_name= str(year))\n",
    "                data_pd[str(year)] = data_I.loc[:,str(year)]\n",
    "                #count = count +1\n",
    "                #print(count)        \n",
    "    #return data_pd\n",
    "    data_pd.to_csv(\"watergap_\"+nc4_key+\"_\"+datatype+\".csv\")"
   ]
  },
  {
   "cell_type": "code",
   "execution_count": null,
   "metadata": {},
   "outputs": [],
   "source": [
    "netCDF4_to_csv('watergap_22d_WFDEI-GPCC_histsoc_pirruse_monthly_1901_2016.nc4','pirruse', datatype = 'monthly')"
   ]
  },
  {
   "cell_type": "code",
   "execution_count": null,
   "metadata": {},
   "outputs": [],
   "source": [
    "netCDF4_to_csv('watergap_22d_WFDEI-GPCC_histsoc_pinduse_yearly_1901_2016.nc4','pinduse', datatype = 'yearly')"
   ]
  }
 ],
 "metadata": {
  "kernelspec": {
   "display_name": "Python 3",
   "language": "python",
   "name": "python3"
  },
  "language_info": {
   "codemirror_mode": {
    "name": "ipython",
    "version": 3
   },
   "file_extension": ".py",
   "mimetype": "text/x-python",
   "name": "python",
   "nbconvert_exporter": "python",
   "pygments_lexer": "ipython3",
   "version": "3.8.5"
  }
 },
 "nbformat": 4,
 "nbformat_minor": 4
}
