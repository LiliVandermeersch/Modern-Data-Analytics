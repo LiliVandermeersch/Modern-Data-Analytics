{
 "cells": [
  {
   "cell_type": "markdown",
   "id": "better-victim",
   "metadata": {},
   "source": [
    "# Exploratory Data Analysis - Watergap"
   ]
  },
  {
   "cell_type": "markdown",
   "id": "placed-rates",
   "metadata": {},
   "source": [
    "### 0.0 Loading libraries and setting up configuration options"
   ]
  },
  {
   "cell_type": "code",
   "execution_count": 1,
   "id": "damaged-matrix",
   "metadata": {},
   "outputs": [],
   "source": [
    "import pandas as pd\n",
    "from pandas_profiling import ProfileReport\n",
    "import numpy as np\n",
    "import pandas as pd\n",
    "import matplotlib.pylab as plt\n",
    "import seaborn as sns\n",
    "from collections import Counter\n",
    "import matplotlib.ticker as ticker\n",
    "from matplotlib import colors\n",
    "import warnings\n",
    "import psutil"
   ]
  },
  {
   "cell_type": "code",
   "execution_count": 2,
   "id": "yellow-possible",
   "metadata": {},
   "outputs": [],
   "source": [
    "sns.set_style(\"white\")\n",
    "sns.color_palette(\"colorblind\")\n",
    "pd.set_option('display.max_rows', None)\n",
    "pd.set_option('display.max_columns', None)\n",
    "pd.set_option('display.float_format', lambda x: '%.2f' % x)\n",
    "params = {'legend.fontsize': 12,\n",
    "'figure.figsize': (12, 9),\n",
    "'axes.labelsize': 14,\n",
    "'axes.titlesize':14,\n",
    "'xtick.labelsize':14,\n",
    "'ytick.labelsize':14}\n",
    "warnings.filterwarnings(\"ignore\")"
   ]
  },
  {
   "cell_type": "code",
   "execution_count": null,
   "id": "attached-maker",
   "metadata": {},
   "outputs": [],
   "source": [
    "def memory():\n",
    "    #print(psutil.virtual_memory())\n",
    "    print((round(psutil.virtual_memory()[0]/1000000000,2))) # GB RAM disponible \n",
    "    print(round(psutil.virtual_memory()[4]/1000000000,2)) # GB RAM free \n",
    "memory()"
   ]
  },
  {
   "cell_type": "markdown",
   "id": "vocal-admission",
   "metadata": {},
   "source": [
    "### 1.1 Loading the data"
   ]
  },
  {
   "cell_type": "code",
   "execution_count": 3,
   "id": "refined-assault",
   "metadata": {},
   "outputs": [],
   "source": [
    "df = pd.read_csv('COMBINED_watergap.csv') "
   ]
  },
  {
   "cell_type": "code",
   "execution_count": null,
   "id": "infrared-insider",
   "metadata": {
    "scrolled": true
   },
   "outputs": [],
   "source": [
    "df.head(5)"
   ]
  },
  {
   "cell_type": "code",
   "execution_count": null,
   "id": "settled-dance",
   "metadata": {},
   "outputs": [],
   "source": [
    "df.info(verbose=True, null_counts=True)"
   ]
  },
  {
   "cell_type": "markdown",
   "id": "stable-workplace",
   "metadata": {},
   "source": [
    "Basic info:<br>\n",
    "* we have **1,483 columns**.\n",
    "* The `\"Unamed: 0\"` seems to be a mistake. Apart from it, and the `lat`/`long` variables, we have 1,480 columns with yearly info.\n",
    "* That comes from: **40 different variables** x **37 years** (1980 - 2016) = 1,480\n",
    "* There are 259,200 rows, and only `lat` and `lon` are completely filled. All yearly data has **67,420 valid rows**."
   ]
  },
  {
   "cell_type": "markdown",
   "id": "ahead-appearance",
   "metadata": {},
   "source": [
    "Running **Pandas Profiling** *minimal mode* that provides an initial overview, EDA-wise.<br>\n",
    "*(disables expensive computations (such as correlations and dynamic binning)*:\n",
    "\n"
   ]
  },
  {
   "cell_type": "markdown",
   "id": "collectible-stanley",
   "metadata": {},
   "source": [
    "### 2. Pandas Profiling to HTML (~80MB file)"
   ]
  },
  {
   "cell_type": "code",
   "execution_count": 4,
   "id": "empty-pickup",
   "metadata": {},
   "outputs": [
    {
     "data": {
      "application/vnd.jupyter.widget-view+json": {
       "model_id": "4b3326bd46514e21b7b02ce0eddf2fbd",
       "version_major": 2,
       "version_minor": 0
      },
      "text/plain": [
       "Summarize dataset:   0%|          | 0/1491 [00:00<?, ?it/s]"
      ]
     },
     "metadata": {},
     "output_type": "display_data"
    },
    {
     "data": {
      "application/vnd.jupyter.widget-view+json": {
       "model_id": "405ef93b000542c1988f1fda2dbe5c7d",
       "version_major": 2,
       "version_minor": 0
      },
      "text/plain": [
       "Generate report structure:   0%|          | 0/1 [00:00<?, ?it/s]"
      ]
     },
     "metadata": {},
     "output_type": "display_data"
    },
    {
     "data": {
      "application/vnd.jupyter.widget-view+json": {
       "model_id": "3ae7229dfd9c4a3a88b87ca327d98a7a",
       "version_major": 2,
       "version_minor": 0
      },
      "text/plain": [
       "Render HTML:   0%|          | 0/1 [00:00<?, ?it/s]"
      ]
     },
     "metadata": {},
     "output_type": "display_data"
    },
    {
     "data": {
      "application/vnd.jupyter.widget-view+json": {
       "model_id": "c9255f46d632426caedab7e56f6424cc",
       "version_major": 2,
       "version_minor": 0
      },
      "text/plain": [
       "Export report to file:   0%|          | 0/1 [00:00<?, ?it/s]"
      ]
     },
     "metadata": {},
     "output_type": "display_data"
    }
   ],
   "source": [
    "profile = ProfileReport(df, minimal=True)\n",
    "profile.to_file(output_file=\"output_min.html\")"
   ]
  },
  {
   "cell_type": "code",
   "execution_count": null,
   "id": "dried-recall",
   "metadata": {},
   "outputs": [],
   "source": []
  },
  {
   "cell_type": "code",
   "execution_count": null,
   "id": "psychological-combination",
   "metadata": {},
   "outputs": [],
   "source": []
  },
  {
   "cell_type": "code",
   "execution_count": null,
   "id": "favorite-sullivan",
   "metadata": {},
   "outputs": [],
   "source": []
  },
  {
   "cell_type": "code",
   "execution_count": null,
   "id": "preliminary-server",
   "metadata": {},
   "outputs": [],
   "source": []
  },
  {
   "cell_type": "code",
   "execution_count": null,
   "id": "corrected-empty",
   "metadata": {},
   "outputs": [],
   "source": []
  },
  {
   "cell_type": "code",
   "execution_count": null,
   "id": "premier-feeding",
   "metadata": {},
   "outputs": [],
   "source": []
  },
  {
   "cell_type": "code",
   "execution_count": null,
   "id": "excited-quantum",
   "metadata": {},
   "outputs": [],
   "source": []
  },
  {
   "cell_type": "code",
   "execution_count": null,
   "id": "pediatric-steam",
   "metadata": {},
   "outputs": [],
   "source": []
  },
  {
   "cell_type": "code",
   "execution_count": null,
   "id": "tribal-sensitivity",
   "metadata": {},
   "outputs": [],
   "source": []
  },
  {
   "cell_type": "code",
   "execution_count": null,
   "id": "center-inspection",
   "metadata": {},
   "outputs": [],
   "source": []
  },
  {
   "cell_type": "code",
   "execution_count": null,
   "id": "complex-voice",
   "metadata": {},
   "outputs": [],
   "source": []
  },
  {
   "cell_type": "code",
   "execution_count": null,
   "id": "pursuant-saturday",
   "metadata": {},
   "outputs": [],
   "source": []
  }
 ],
 "metadata": {
  "kernelspec": {
   "display_name": "Python 3",
   "language": "python",
   "name": "python3"
  },
  "language_info": {
   "codemirror_mode": {
    "name": "ipython",
    "version": 3
   },
   "file_extension": ".py",
   "mimetype": "text/x-python",
   "name": "python",
   "nbconvert_exporter": "python",
   "pygments_lexer": "ipython3",
   "version": "3.8.3"
  }
 },
 "nbformat": 4,
 "nbformat_minor": 5
}
