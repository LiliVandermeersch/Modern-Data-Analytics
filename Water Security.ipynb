{
 "cells": [
  {
   "cell_type": "markdown",
   "metadata": {},
   "source": [
    "# Water Security"
   ]
  },
  {
   "cell_type": "markdown",
   "metadata": {},
   "source": [
    "### Downloading all data"
   ]
  },
  {
   "cell_type": "code",
   "execution_count": null,
   "metadata": {},
   "outputs": [
    {
     "name": "stdout",
     "output_type": "stream",
     "text": [
      "download: s3://s3groupegypt/SSP2/ssp2_1980_2016_pop.csv to data/SSP2/ssp2_1980_2016_pop.csv\n",
      "download: s3://s3groupegypt/SSP2/ssp2_1980_2016_GDP.csv to data/SSP2/ssp2_1980_2016_GDP.csv\n",
      "download: s3://s3groupegypt/WaterGAP_csv/watergap_anas.csv to data/WaterGAP_csv/watergap_anas.csv\n",
      "download: s3://s3groupegypt/WaterGAP_csv/watergap_anag.csv to data/WaterGAP_csv/watergap_anag.csv\n",
      "download: s3://s3groupegypt/WaterGAP_csv/watergap_glowetlandstor.csv to data/WaterGAP_csv/watergap_glowetlandstor.csv\n",
      "download: s3://s3groupegypt/WaterGAP_csv/watergap_atotuse.csv to data/WaterGAP_csv/watergap_atotuse.csv\n",
      "download: s3://s3groupegypt/WaterGAP_csv/watergap_dis.csv to data/WaterGAP_csv/watergap_dis.csv\n",
      "download: s3://s3groupegypt/WaterGAP_csv/watergap_evap.csv to data/WaterGAP_csv/watergap_evap.csv\n",
      "download: s3://s3groupegypt/WaterGAP_csv/watergap_canopystor.csv to data/WaterGAP_csv/watergap_canopystor.csv\n",
      "download: s3://s3groupegypt/WaterGAP_csv/watergap_glolakestor.csv to data/WaterGAP_csv/watergap_glolakestor.csv\n",
      "download: s3://s3groupegypt/WaterGAP_csv/watergap_groundwstor.csv to data/WaterGAP_csv/watergap_groundwstor.csv\n",
      "download: s3://s3groupegypt/WaterGAP_csv/watergap_loclakestor.csv to data/WaterGAP_csv/watergap_loclakestor.csv\n",
      "download: s3://s3groupegypt/WaterGAP_csv/watergap_locwetlandstor.csv to data/WaterGAP_csv/watergap_locwetlandstor.csv\n",
      "download: s3://s3groupegypt/WaterGAP_csv/watergap_pdomww.csv to data/WaterGAP_csv/watergap_pdomww.csv\n",
      "download: s3://s3groupegypt/WaterGAP_csv/watergap_ncrun.csv to data/WaterGAP_csv/watergap_ncrun.csv\n",
      "download: s3://s3groupegypt/WaterGAP_csv/watergap_pgwww.csv to data/WaterGAP_csv/watergap_pgwww.csv\n",
      "download: s3://s3groupegypt/WaterGAP_csv/watergap_pdomuse.csv to data/WaterGAP_csv/watergap_pdomuse.csv\n",
      "download: s3://s3groupegypt/WaterGAP_csv/watergap_pindww.csv to data/WaterGAP_csv/watergap_pindww.csv\n",
      "download: s3://s3groupegypt/WaterGAP_csv/watergap_pgwuse.csv to data/WaterGAP_csv/watergap_pgwuse.csv\n",
      "download: s3://s3groupegypt/WaterGAP_csv/watergap_pinduse.csv to data/WaterGAP_csv/watergap_pinduse.csv\n",
      "download: s3://s3groupegypt/WaterGap/NC4_to_CSV_Year_Month.ipynb to data/WaterGap/NC4_to_CSV_Year_Month.ipynb\n",
      "download: s3://s3groupegypt/WaterGap/watergap_22d_CFS.hdf to data/WaterGap/watergap_22d_CFS.hdf\n",
      "download: s3://s3groupegypt/WaterGap/watergap_22d_CFA.hdf to data/WaterGap/watergap_22d_CFA.hdf\n",
      "download: s3://s3groupegypt/WaterGAP_csv/watergap_pirruse.csv to data/WaterGAP_csv/watergap_pirruse.csv\n",
      "download: s3://s3groupegypt/WaterGAP_csv/watergap_pirrww.csv to data/WaterGAP_csv/watergap_pirrww.csv\n",
      "download: s3://s3groupegypt/WaterGAP_csv/watergap_pnag.csv to data/WaterGAP_csv/watergap_pnag.csv\n",
      "download: s3://s3groupegypt/WaterGAP_csv/watergap_plivuse.csv to data/WaterGAP_csv/watergap_plivuse.csv\n",
      "download: s3://s3groupegypt/WaterGap/watergap_22d_WFDEI-GPCC_histsoc_canopystor_monthly_1901_2016.hdf to data/WaterGap/watergap_22d_WFDEI-GPCC_histsoc_canopystor_monthly_1901_2016.hdf\n",
      "download: s3://s3groupegypt/WaterGap/watergap_22d_WFDEI-GPCC_histsoc_canopystor_monthly_1901_2016.nc4 to data/WaterGap/watergap_22d_WFDEI-GPCC_histsoc_canopystor_monthly_1901_2016.nc4\n",
      "download: s3://s3groupegypt/WaterGap/watergap_22d_WFDEI-GPCC_histsoc_anag_monthly_1901_2016.hdf to data/WaterGap/watergap_22d_WFDEI-GPCC_histsoc_anag_monthly_1901_2016.hdf\n",
      "download: s3://s3groupegypt/WaterGap/watergap_22d_WFDEI-GPCC_histsoc_glolakestor_monthly_1901_2016.hdf to data/WaterGap/watergap_22d_WFDEI-GPCC_histsoc_glolakestor_monthly_1901_2016.hdf\n",
      "download: s3://s3groupegypt/WaterGap/watergap_22d_WFDEI-GPCC_histsoc_atotuse_monthly_1901_2016.hdf to data/WaterGap/watergap_22d_WFDEI-GPCC_histsoc_atotuse_monthly_1901_2016.hdf\n",
      "download: s3://s3groupegypt/WaterGap/watergap_22d_WFDEI-GPCC_histsoc_anas_monthly_1901_2016.hdf to data/WaterGap/watergap_22d_WFDEI-GPCC_histsoc_anas_monthly_1901_2016.hdf\n",
      "download: s3://s3groupegypt/WaterGap/watergap_22d_WFDEI-GPCC_histsoc_glowetlandstor_monthly_1901_2016.hdf to data/WaterGap/watergap_22d_WFDEI-GPCC_histsoc_glowetlandstor_monthly_1901_2016.hdf\n",
      "download: s3://s3groupegypt/WaterGap/watergap_22d_WFDEI-GPCC_histsoc_dis_monthly_1901_2016.hdf to data/WaterGap/watergap_22d_WFDEI-GPCC_histsoc_dis_monthly_1901_2016.hdf\n",
      "download: s3://s3groupegypt/WaterGap/watergap_22d_WFDEI-GPCC_histsoc_loclakestor_monthly_1901_2016.hdf to data/WaterGap/watergap_22d_WFDEI-GPCC_histsoc_loclakestor_monthly_1901_2016.hdf\n",
      "download: s3://s3groupegypt/WaterGap/watergap_22d_WFDEI-GPCC_histsoc_evap_monthly_1901_2016.hdf to data/WaterGap/watergap_22d_WFDEI-GPCC_histsoc_evap_monthly_1901_2016.hdf\n",
      "download: s3://s3groupegypt/WaterGap/watergap_22d_WFDEI-GPCC_histsoc_locwetlandstor_monthly_1901_2016.hdf to data/WaterGap/watergap_22d_WFDEI-GPCC_histsoc_locwetlandstor_monthly_1901_2016.hdf\n",
      "download: s3://s3groupegypt/WaterGap/watergap_22d_WFDEI-GPCC_histsoc_pdomww_yearly_1901_2016.hdf to data/WaterGap/watergap_22d_WFDEI-GPCC_histsoc_pdomww_yearly_1901_2016.hdf\n",
      "download: s3://s3groupegypt/WaterGap/watergap_22d_WFDEI-GPCC_histsoc_pdomuse_yearly_1901_2016.hdf to data/WaterGap/watergap_22d_WFDEI-GPCC_histsoc_pdomuse_yearly_1901_2016.hdf\n",
      "download: s3://s3groupegypt/WaterGap/watergap_22d_WFDEI-GPCC_histsoc_pindww_yearly_1901_2016.hdf to data/WaterGap/watergap_22d_WFDEI-GPCC_histsoc_pindww_yearly_1901_2016.hdf\n",
      "download: s3://s3groupegypt/WaterGap/watergap_22d_WFDEI-GPCC_histsoc_pinduse_yearly_1901_2016.hdf to data/WaterGap/watergap_22d_WFDEI-GPCC_histsoc_pinduse_yearly_1901_2016.hdf\n",
      "download: s3://s3groupegypt/WaterGap/watergap_22d_WFDEI-GPCC_histsoc_pirruse_monthly_1901_2016.hdf to data/WaterGap/watergap_22d_WFDEI-GPCC_histsoc_pirruse_monthly_1901_2016.hdf\n",
      "download: s3://s3groupegypt/WaterGap/watergap_22d_WFDEI-GPCC_histsoc_groundwstor_monthly_1901_2016.hdf to data/WaterGap/watergap_22d_WFDEI-GPCC_histsoc_groundwstor_monthly_1901_2016.hdf\n",
      "download: s3://s3groupegypt/WaterGap/watergap_22d_WFDEI-GPCC_histsoc_plivuse_yearly_1901_2016.hdf to data/WaterGap/watergap_22d_WFDEI-GPCC_histsoc_plivuse_yearly_1901_2016.hdf\n",
      "download: s3://s3groupegypt/WaterGap/watergap_22d_WFDEI-GPCC_histsoc_pirrww_monthly_1901_2016.hdf to data/WaterGap/watergap_22d_WFDEI-GPCC_histsoc_pirrww_monthly_1901_2016.hdf\n",
      "download: s3://s3groupegypt/WaterGap/watergap_22d_WFDEI-GPCC_histsoc_ncrun_monthly_1901_2016.hdf to data/WaterGap/watergap_22d_WFDEI-GPCC_histsoc_ncrun_monthly_1901_2016.hdf\n",
      "download: s3://s3groupegypt/WaterGap/watergap_22d_WFDEI-GPCC_histsoc_pgwuse_monthly_1901_2016.hdf to data/WaterGap/watergap_22d_WFDEI-GPCC_histsoc_pgwuse_monthly_1901_2016.hdf\n",
      "download: s3://s3groupegypt/WaterGap/watergap_22d_WFDEI-GPCC_histsoc_pgwww_monthly_1901_2016.hdf to data/WaterGap/watergap_22d_WFDEI-GPCC_histsoc_pgwww_monthly_1901_2016.hdf\n",
      "download: s3://s3groupegypt/WaterGap/watergap_22d_WFDEI-GPCC_histsoc_pnag_monthly_1901_2016.hdf to data/WaterGap/watergap_22d_WFDEI-GPCC_histsoc_pnag_monthly_1901_2016.hdf\n",
      "download: s3://s3groupegypt/WaterGap/watergap_22d_WFDEI-GPCC_histsoc_pnas_monthly_1901_2016.hdf to data/WaterGap/watergap_22d_WFDEI-GPCC_histsoc_pnas_monthly_1901_2016.hdf\n",
      "download: s3://s3groupegypt/WaterGap/watergap_22d_WFDEI-GPCC_histsoc_potevap_monthly_1901_2016.hdf to data/WaterGap/watergap_22d_WFDEI-GPCC_histsoc_potevap_monthly_1901_2016.hdf\n",
      "download: s3://s3groupegypt/WaterGap/watergap_22d_WFDEI-GPCC_histsoc_precmon_monthly_1901_2016.hdf to data/WaterGap/watergap_22d_WFDEI-GPCC_histsoc_precmon_monthly_1901_2016.hdf\n",
      "download: s3://s3groupegypt/WaterGap/watergap_22d_WFDEI-GPCC_histsoc_ptotuse_monthly_1901_2016.hdf to data/WaterGap/watergap_22d_WFDEI-GPCC_histsoc_ptotuse_monthly_1901_2016.hdf\n",
      "Completed 6.9 GiB/10.0 GiB (23.2 MiB/s) with 275 file(s) remaining\r"
     ]
    }
   ],
   "source": [
    "# Make sure you've run aws configure before hand\n",
    "!aws s3 sync s3://s3groupegypt data"
   ]
  },
  {
   "cell_type": "markdown",
   "metadata": {},
   "source": [
    "## Preprocessing"
   ]
  },
  {
   "cell_type": "markdown",
   "metadata": {},
   "source": [
    "### Loading SSP2 dataset"
   ]
  },
  {
   "cell_type": "markdown",
   "metadata": {},
   "source": [
    "Here we load the dataset and visualise the information with a head()/google map"
   ]
  },
  {
   "cell_type": "markdown",
   "metadata": {},
   "source": [
    "### Loading Water GAP dataset"
   ]
  },
  {
   "cell_type": "markdown",
   "metadata": {},
   "source": [
    "Here we load the dataset and visualise the information with a head()/google map"
   ]
  },
  {
   "cell_type": "markdown",
   "metadata": {},
   "source": [
    "### Loading GLDAS dataset"
   ]
  },
  {
   "cell_type": "markdown",
   "metadata": {},
   "source": [
    "Here we load the dataset and visualise the information with a head()/google map"
   ]
  },
  {
   "cell_type": "markdown",
   "metadata": {},
   "source": [
    "### Merging the dataframe"
   ]
  },
  {
   "cell_type": "markdown",
   "metadata": {},
   "source": [
    "Here we load the dataset and visualise the information with a head()/google map"
   ]
  },
  {
   "cell_type": "code",
   "execution_count": null,
   "metadata": {},
   "outputs": [],
   "source": []
  }
 ],
 "metadata": {
  "kernelspec": {
   "display_name": "Python 3",
   "language": "python",
   "name": "python3"
  },
  "language_info": {
   "codemirror_mode": {
    "name": "ipython",
    "version": 3
   },
   "file_extension": ".py",
   "mimetype": "text/x-python",
   "name": "python",
   "nbconvert_exporter": "python",
   "pygments_lexer": "ipython3",
   "version": "3.8.5"
  }
 },
 "nbformat": 4,
 "nbformat_minor": 4
}
