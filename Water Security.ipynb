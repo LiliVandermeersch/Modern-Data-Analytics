{
 "cells": [
  {
   "cell_type": "markdown",
   "metadata": {},
   "source": [
    "# Water Security"
   ]
  },
  {
   "cell_type": "markdown",
   "metadata": {},
   "source": [
    "### Downloading all data"
   ]
  },
  {
   "cell_type": "code",
   "execution_count": 40,
   "metadata": {},
   "outputs": [
    {
     "name": "stdout",
     "output_type": "stream",
     "text": [
      "download: s3://s3groupegypt/SSP2/pop_ssp2.csv to data/SSP2/pop_ssp2.csv\n",
      "download: s3://s3groupegypt/SSP2/gdp_ssp2.csv to data/SSP2/gdp_ssp2.csv\n"
     ]
    }
   ],
   "source": [
    "# Make sure you've run aws configure before hand\n",
    "!aws s3 sync s3://s3groupegypt data"
   ]
  },
  {
   "cell_type": "markdown",
   "metadata": {},
   "source": [
    "## Preprocessing"
   ]
  },
  {
   "cell_type": "code",
   "execution_count": 41,
   "metadata": {},
   "outputs": [],
   "source": [
    "import pandas as pd\n",
    "import numpy as np\n",
    "from shapely.geometry import Point, box\n",
    "import matplotlib.pyplot as plt\n",
    "import geopandas\n",
    "import geoplot\n",
    "import h5py\n",
    "\n",
    "frames = []"
   ]
  },
  {
   "cell_type": "markdown",
   "metadata": {},
   "source": [
    "### Loading SSP2 dataset"
   ]
  },
  {
   "cell_type": "markdown",
   "metadata": {},
   "source": [
    "Here we load the dataset and visualise the information with a head()/google map"
   ]
  },
  {
   "cell_type": "code",
   "execution_count": 42,
   "metadata": {},
   "outputs": [],
   "source": [
    "def linear_impute(df, prefix):\n",
    "    df[[\"%c2_%s\" % (prefix, i) for i in np.arange(1980, 2017) if i % 10]] = np.nan\n",
    "    df_t = df[[\"%c2_%s\" % (prefix, i) for i in np.arange(1980, 2017)]].transpose()\n",
    "    df_it = df_t.interpolate(method='linear', direction = 'forward').transpose()\n",
    "    df_it[[\"gID\", \"lon\", \"lat\", \"ISO3\"]] = df[[\"gID\", \"px\", \"py\", \"ISO3\"]]\n",
    "    return df_it"
   ]
  },
  {
   "cell_type": "code",
   "execution_count": null,
   "metadata": {
    "scrolled": false
   },
   "outputs": [],
   "source": [
    "frames.append(linear_impute(pd.read_csv(\"data/SSP2/pop_ssp2.csv\"), prefix=\"p\"))\n",
    "frames.append(linear_impute(pd.read_csv(\"data/SSP2/gdp_ssp2.csv\"), prefix=\"g\"))\n",
    "\n",
    "# TODO: we probably need to "
   ]
  },
  {
   "cell_type": "markdown",
   "metadata": {},
   "source": [
    "### Loading Water GAP dataset"
   ]
  },
  {
   "cell_type": "markdown",
   "metadata": {},
   "source": [
    "Here we load the dataset and visualise the information with a head()/google map"
   ]
  },
  {
   "cell_type": "markdown",
   "metadata": {},
   "source": [
    "### Loading GLDAS dataset"
   ]
  },
  {
   "cell_type": "markdown",
   "metadata": {},
   "source": [
    "Here we load the dataset and visualise the information with a head()/google map"
   ]
  },
  {
   "cell_type": "markdown",
   "metadata": {},
   "source": [
    "### Merging the dataframe"
   ]
  },
  {
   "cell_type": "markdown",
   "metadata": {},
   "source": [
    "Here we load the dataset and visualise the information with a head()/google map"
   ]
  },
  {
   "cell_type": "code",
   "execution_count": null,
   "metadata": {},
   "outputs": [],
   "source": [
    "# merge(frames)"
   ]
  }
 ],
 "metadata": {
  "kernelspec": {
   "display_name": "Python 3",
   "language": "python",
   "name": "python3"
  },
  "language_info": {
   "codemirror_mode": {
    "name": "ipython",
    "version": 3
   },
   "file_extension": ".py",
   "mimetype": "text/x-python",
   "name": "python",
   "nbconvert_exporter": "python",
   "pygments_lexer": "ipython3",
   "version": "3.8.5"
  }
 },
 "nbformat": 4,
 "nbformat_minor": 4
}
